{
 "cells": [
  {
   "cell_type": "code",
   "execution_count": 3,
   "id": "1a60334e",
   "metadata": {},
   "outputs": [],
   "source": [
    "import numpy as np\n",
    "\n",
    "class NeuralNetwork:\n",
    "    def __init__(self, input_size, hidden_size, output_size):\n",
    "        # Initialize weights and biases for NN\n",
    "        #random numbers bettwen 0 and 1\n",
    "        self.weights_input_hidden = np.random.randn(input_size, hidden_size) #(2x4)\n",
    "        self.bias_input_hidden = np.zeros((1, hidden_size)) # \n",
    "        self.weights_hidden_output = np.random.randn(hidden_size, output_size) #(4x1)\n",
    "        self.bias_hidden_output = np.zeros((1, output_size))\n",
    "        # X.W = z ......   sigmoid(g)= 1/1+ exp -z a--output forward pro \n",
    "         # output - y = costfun(erorr) ,delta = sigmoid_derivative(g`(z))*erorr back pro \n",
    "    def sigmoid(self,z):\n",
    "        return 1 / (1 + np.exp(-z))\n",
    "\n",
    "    def sigmoid_derivative(self, z):\n",
    "         return z * (1 - z)\n",
    "    \n",
    "    # X.W = z ......   sigmoid(g)= 1/1+ exp -z a--output forward pro \n",
    "    def forward(self, X):\n",
    "        # Forward pass\n",
    "        self.hidden_output = self.sigmoid(np.dot(X, self.weights_input_hidden) + self.bias_input_hidden)\n",
    "        self.output = self.sigmoid(np.dot(self.hidden_output, self.weights_hidden_output) + self.bias_hidden_output)\n",
    "        return self.output\n",
    "    \n",
    "    # output - y = costfun(erorr) ,delta = sigmoid_derivative(g`(z))*erorr back pro , Update weights and biases \n",
    "    def backward(self, X, y, learning_rate):\n",
    "        # Backward pass\n",
    "        error = y - self.output\n",
    "        output_delta = error * self.sigmoid_derivative(self.output)\n",
    "\n",
    "        error_hidden = output_delta.dot(self.weights_hidden_output.T)\n",
    "        hidden_delta = error_hidden * self.sigmoid_derivative(self.hidden_output)\n",
    "\n",
    "        # Update weights and biases\n",
    "        self.weights_hidden_output += self.hidden_output.T.dot(output_delta) * learning_rate\n",
    "        self.bias_hidden_output += np.sum(output_delta, axis=0, keepdims=True) * learning_rate\n",
    "        self.weights_input_hidden += X.T.dot(hidden_delta) * learning_rate\n",
    "        self.bias_input_hidden += np.sum(hidden_delta, axis=0, keepdims=True) * learning_rate\n",
    "\n",
    "    def train(self, X, y, epochs, learning_rate):\n",
    "        for epoch in range(epochs):\n",
    "            output = self.forward(X)\n",
    "            self.backward(X, y, learning_rate)\n",
    "            if epoch % 100 == 0:\n",
    "                loss = np.mean(np.square(y - output))\n",
    "                #print(f'Epoch {epoch}, Loss: {loss:.4f}')\n"
   ]
  },
  {
   "cell_type": "code",
   "execution_count": 4,
   "id": "af848d76",
   "metadata": {
    "scrolled": true
   },
   "outputs": [
    {
     "name": "stdout",
     "output_type": "stream",
     "text": [
      "Predictions after training:\n",
      "[[0.04333756]\n",
      " [0.96233961]\n",
      " [0.95138889]\n",
      " [0.03580541]]\n"
     ]
    }
   ],
   "source": [
    "# Example usage\n",
    "if __name__ == \"__main__\":\n",
    "    X = np.array([[0, 0], [0, 1], [1, 0], [1, 1]])  # Input\n",
    "    y = np.array([[0], [1], [1], [0]])  # Output\n",
    "\n",
    "    input_size = 2\n",
    "    hidden_size = 4\n",
    "    output_size = 1\n",
    "    epochs = 10000\n",
    "    learning_rate = 0.1 \n",
    "\n",
    "    nn = NeuralNetwork(input_size, hidden_size, output_size)\n",
    "    nn.train(X, y, epochs, learning_rate)\n",
    "\n",
    "    print(\"Predictions after training:\")\n",
    "    print(nn.forward(X))"
   ]
  },
  {
   "cell_type": "code",
   "execution_count": null,
   "id": "95ce3df1",
   "metadata": {},
   "outputs": [],
   "source": []
  }
 ],
 "metadata": {
  "kernelspec": {
   "display_name": "Python 3 (ipykernel)",
   "language": "python",
   "name": "python3"
  },
  "language_info": {
   "codemirror_mode": {
    "name": "ipython",
    "version": 3
   },
   "file_extension": ".py",
   "mimetype": "text/x-python",
   "name": "python",
   "nbconvert_exporter": "python",
   "pygments_lexer": "ipython3",
   "version": "3.9.7"
  }
 },
 "nbformat": 4,
 "nbformat_minor": 5
}
